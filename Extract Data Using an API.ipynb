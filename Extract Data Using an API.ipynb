{
 "cells": [
  {
   "cell_type": "markdown",
   "metadata": {},
   "source": [
    "<p style=\"text-align:center\">\n",
    "    <a href=\"https://skills.network/?utm_medium=Exinfluencer&utm_source=Exinfluencer&utm_content=000026UJ&utm_term=10006555&utm_id=NA-SkillsNetwork-Channel-SkillsNetworkCoursesIBMDeveloperSkillsNetworkPY0221ENSkillsNetwork23455645-2022-01-01\" target=\"_blank\">\n",
    "    <img src=\"https://cf-courses-data.s3.us.cloud-object-storage.appdomain.cloud/assets/logos/SN_web_lightmode.png\" width=\"200\" alt=\"Skills Network Logo\"  />\n",
    "    </a>\n",
    "</p>\n"
   ]
  },
  {
   "cell_type": "markdown",
   "metadata": {},
   "source": [
    "# Peer Review Assignment - Data Engineer - Extract API Data\n"
   ]
  },
  {
   "cell_type": "markdown",
   "metadata": {},
   "source": [
    "Estimated time needed: **20** minutes\n"
   ]
  },
  {
   "cell_type": "markdown",
   "metadata": {},
   "source": [
    "## Objectives\n",
    "\n",
    "In this part you will:\n",
    "\n",
    "*   Collect exchange rate data using an API\n",
    "*   Store the data as a CSV\n"
   ]
  },
  {
   "cell_type": "markdown",
   "metadata": {},
   "source": [
    "For this lab, we are going to be using Python and several Python libraries. Some of these libraries might be installed in your lab environment or in SN Labs. Others may need to be installed by you. The cells below will install these libraries when executed.\n"
   ]
  },
  {
   "cell_type": "markdown",
   "metadata": {},
   "source": [
    "## Imports\n",
    "\n",
    "Import any additional libraries you may need here.\n"
   ]
  },
  {
   "cell_type": "code",
   "execution_count": 1,
   "metadata": {},
   "outputs": [],
   "source": [
    "import requests\n",
    "import pandas as pd\n",
    "import json"
   ]
  },
  {
   "cell_type": "markdown",
   "metadata": {},
   "source": [
    "## Extract Data Using an API\n"
   ]
  },
  {
   "cell_type": "markdown",
   "metadata": {},
   "source": [
    "Using ExchangeRate-API we will extract currency exchange rate data. Use the below steps to get the access key and to get the data.\n",
    "\n",
    "1.  Open the url : [https://exchangeratesapi.io/](https://exchangeratesapi.io/?utm_medium=Exinfluencer&utm_source=Exinfluencer&utm_content=000026UJ&utm_term=10006555&utm_id=NA-SkillsNetwork-Channel-SkillsNetworkCoursesIBMDeveloperSkillsNetworkPY0221ENSkillsNetwork23455645-2022-01-01) and click on **Get Free API Key**.\n",
    "2.  Subscribe for Free plan and Sign-in with the Google Account.\n",
    "3.  Once the account is created you will be redirected to [https://apilayer.com](https://apilayer.com/?utm_medium=Exinfluencer&utm_source=Exinfluencer&utm_content=000026UJ&utm_term=10006555&utm_id=NA-SkillsNetwork-Channel-SkillsNetworkCoursesIBMDeveloperSkillsNetworkPY0221ENSkillsNetwork23455645-2022-01-01) website.\n",
    "4.  Now, click on the **user icon** and click **Account** as shown below:\n",
    "\n",
    "<img src=\"https://cf-courses-data.s3.us.cloud-object-storage.appdomain.cloud/IBMDeveloperSkillsNetwork-PY0221EN-SkillsNetwork/labs/module%206/Final%20Assignment/Images/account.png\"/>\n",
    "\n",
    "3.  Scroll down and you will get the API Key section. Copy the API key and use in the url in Question 1.\n"
   ]
  },
  {
   "cell_type": "markdown",
   "metadata": {},
   "source": [
    "### Call the API\n",
    "\n",
    "<b> Question 1</b> Using the `requests` library call the endpoint given above and save the text, remember the first few characters of the output:\n"
   ]
  },
  {
   "cell_type": "code",
   "execution_count": 11,
   "metadata": {
    "collapsed": true
   },
   "outputs": [
    {
     "data": {
      "text/plain": [
       "{'success': True,\n",
       " 'timestamp': 1664455083,\n",
       " 'base': 'EUR',\n",
       " 'date': '2022-09-29',\n",
       " 'rates': {'AED': 3.560658,\n",
       "  'AFN': 85.609349,\n",
       "  'ALL': 116.132071,\n",
       "  'AMD': 393.508559,\n",
       "  'ANG': 1.747548,\n",
       "  'AOA': 419.621109,\n",
       "  'ARS': 142.317173,\n",
       "  'AUD': 1.499959,\n",
       "  'AWG': 1.744922,\n",
       "  'AZN': 1.645577,\n",
       "  'BAM': 1.952177,\n",
       "  'BBD': 1.957836,\n",
       "  'BDT': 98.154669,\n",
       "  'BGN': 1.95626,\n",
       "  'BHD': 0.365519,\n",
       "  'BIF': 2002.842538,\n",
       "  'BMD': 0.969401,\n",
       "  'BND': 1.394391,\n",
       "  'BOB': 6.700326,\n",
       "  'BRL': 5.235445,\n",
       "  'BSD': 0.96968,\n",
       "  'BTC': 5.0544289e-05,\n",
       "  'BTN': 79.398903,\n",
       "  'BWP': 12.928738,\n",
       "  'BYN': 2.44752,\n",
       "  'BYR': 19000.256891,\n",
       "  'BZD': 1.954532,\n",
       "  'CAD': 1.330352,\n",
       "  'CDF': 1985.332496,\n",
       "  'CHF': 0.953246,\n",
       "  'CLF': 0.033859,\n",
       "  'CLP': 934.115694,\n",
       "  'CNY': 6.916867,\n",
       "  'COP': 4352.619563,\n",
       "  'CRC': 612.959745,\n",
       "  'CUC': 0.969401,\n",
       "  'CUP': 25.689123,\n",
       "  'CVE': 110.056202,\n",
       "  'CZK': 24.685697,\n",
       "  'DJF': 172.623391,\n",
       "  'DKK': 7.43672,\n",
       "  'DOP': 51.735914,\n",
       "  'DZD': 136.48583,\n",
       "  'EGP': 18.960414,\n",
       "  'ERN': 14.541013,\n",
       "  'ETB': 51.235553,\n",
       "  'EUR': 1,\n",
       "  'FJD': 2.238879,\n",
       "  'FKP': 0.83814,\n",
       "  'GBP': 0.893032,\n",
       "  'GEL': 2.743978,\n",
       "  'GGP': 0.83814,\n",
       "  'GHS': 10.084376,\n",
       "  'GIP': 0.83814,\n",
       "  'GMD': 53.675639,\n",
       "  'GNF': 8380.044681,\n",
       "  'GTQ': 7.631298,\n",
       "  'GYD': 202.869304,\n",
       "  'HKD': 7.609845,\n",
       "  'HNL': 23.941073,\n",
       "  'HRK': 7.528562,\n",
       "  'HTG': 117.327827,\n",
       "  'HUF': 422.754721,\n",
       "  'IDR': 14730.870086,\n",
       "  'ILS': 3.448978,\n",
       "  'IMP': 0.83814,\n",
       "  'INR': 79.292095,\n",
       "  'IQD': 1415.226143,\n",
       "  'IRR': 41054.12616,\n",
       "  'ISK': 140.097791,\n",
       "  'JEP': 0.83814,\n",
       "  'JMD': 147.227478,\n",
       "  'JOD': 0.687298,\n",
       "  'JPY': 140.328048,\n",
       "  'KES': 117.026125,\n",
       "  'KGS': 77.729372,\n",
       "  'KHR': 3993.027443,\n",
       "  'KMF': 494.198248,\n",
       "  'KPW': 872.460819,\n",
       "  'KRW': 1390.241995,\n",
       "  'KWD': 0.300873,\n",
       "  'KYD': 0.807984,\n",
       "  'KZT': 462.731657,\n",
       "  'LAK': 15999.276409,\n",
       "  'LBP': 1466.156233,\n",
       "  'LKR': 348.589451,\n",
       "  'LRD': 148.827243,\n",
       "  'LSL': 17.284225,\n",
       "  'LTL': 2.862389,\n",
       "  'LVL': 0.586381,\n",
       "  'LYD': 4.918496,\n",
       "  'MAD': 10.726371,\n",
       "  'MDL': 18.892148,\n",
       "  'MGA': 4113.740322,\n",
       "  'MKD': 61.597581,\n",
       "  'MMK': 2036.266126,\n",
       "  'MNT': 3125.776908,\n",
       "  'MOP': 7.840088,\n",
       "  'MRO': 346.075941,\n",
       "  'MUR': 43.766043,\n",
       "  'MVR': 14.97689,\n",
       "  'MWK': 995.238975,\n",
       "  'MXN': 19.560028,\n",
       "  'MYR': 4.493656,\n",
       "  'MZN': 61.876923,\n",
       "  'NAD': 17.274802,\n",
       "  'NGN': 422.174868,\n",
       "  'NIO': 34.878548,\n",
       "  'NOK': 10.459622,\n",
       "  'NPR': 127.038605,\n",
       "  'NZD': 1.706679,\n",
       "  'OMR': 0.373313,\n",
       "  'PAB': 0.969581,\n",
       "  'PEN': 3.826719,\n",
       "  'PGK': 3.416688,\n",
       "  'PHP': 56.823402,\n",
       "  'PKR': 222.04991,\n",
       "  'PLN': 4.858135,\n",
       "  'PYG': 6842.465584,\n",
       "  'QAR': 3.529583,\n",
       "  'RON': 4.947437,\n",
       "  'RSD': 117.328606,\n",
       "  'RUB': 56.429306,\n",
       "  'RWF': 1026.483742,\n",
       "  'SAR': 3.644273,\n",
       "  'SBD': 7.894275,\n",
       "  'SCR': 12.775662,\n",
       "  'SDG': 559.827598,\n",
       "  'SEK': 10.955514,\n",
       "  'SGD': 1.395394,\n",
       "  'SHP': 1.335252,\n",
       "  'SLL': 15020.866808,\n",
       "  'SOS': 550.619911,\n",
       "  'SRD': 27.411267,\n",
       "  'STD': 20064.640627,\n",
       "  'SVC': 8.484079,\n",
       "  'SYP': 2435.649055,\n",
       "  'SZL': 17.422475,\n",
       "  'THB': 37.004006,\n",
       "  'TJS': 9.565649,\n",
       "  'TMT': 3.402597,\n",
       "  'TND': 3.191756,\n",
       "  'TOP': 2.34881,\n",
       "  'TRY': 17.975892,\n",
       "  'TTD': 6.592529,\n",
       "  'TWD': 30.779432,\n",
       "  'TZS': 2261.238033,\n",
       "  'UAH': 35.636027,\n",
       "  'UGX': 3742.876271,\n",
       "  'USD': 0.969401,\n",
       "  'UYU': 40.013531,\n",
       "  'UZS': 10679.573896,\n",
       "  'VND': 23105.669541,\n",
       "  'VUV': 115.321746,\n",
       "  'WST': 2.642178,\n",
       "  'XAF': 654.728363,\n",
       "  'XAG': 0.052144,\n",
       "  'XAU': 0.000588,\n",
       "  'XCD': 2.619854,\n",
       "  'XDR': 0.765364,\n",
       "  'XOF': 654.728363,\n",
       "  'XPF': 119.914518,\n",
       "  'YER': 242.592257,\n",
       "  'ZAR': 17.451494,\n",
       "  'ZMK': 8725.772431,\n",
       "  'ZMW': 15.296196,\n",
       "  'ZWL': 312.146682}}"
      ]
     },
     "execution_count": 11,
     "metadata": {},
     "output_type": "execute_result"
    }
   ],
   "source": [
    "# Write your code here\n",
    "url = \"https://api.apilayer.com/exchangerates_data/latest?base=EUR&apikey=*******\" #Make sure to change ******* to your API key.\n",
    "response = requests.get(url)\n",
    "data = response.json()\n",
    "data"
   ]
  },
  {
   "cell_type": "markdown",
   "metadata": {},
   "source": [
    "### Save as DataFrame\n",
    "\n",
    "<b> Question 2</b>  Using the data gathered turn it into a `pandas` dataframe. The dataframe should have the Currency as the index and `Rate` as their columns. Make sure to drop unnecessary columns.\n"
   ]
  },
  {
   "cell_type": "code",
   "execution_count": 12,
   "metadata": {},
   "outputs": [
    {
     "data": {
      "text/html": [
       "<div>\n",
       "<style scoped>\n",
       "    .dataframe tbody tr th:only-of-type {\n",
       "        vertical-align: middle;\n",
       "    }\n",
       "\n",
       "    .dataframe tbody tr th {\n",
       "        vertical-align: top;\n",
       "    }\n",
       "\n",
       "    .dataframe thead th {\n",
       "        text-align: right;\n",
       "    }\n",
       "</style>\n",
       "<table border=\"1\" class=\"dataframe\">\n",
       "  <thead>\n",
       "    <tr style=\"text-align: right;\">\n",
       "      <th></th>\n",
       "      <th>success</th>\n",
       "      <th>timestamp</th>\n",
       "      <th>base</th>\n",
       "      <th>date</th>\n",
       "      <th>rates</th>\n",
       "    </tr>\n",
       "  </thead>\n",
       "  <tbody>\n",
       "    <tr>\n",
       "      <th>AED</th>\n",
       "      <td>True</td>\n",
       "      <td>1664455083</td>\n",
       "      <td>EUR</td>\n",
       "      <td>2022-09-29</td>\n",
       "      <td>3.560658</td>\n",
       "    </tr>\n",
       "    <tr>\n",
       "      <th>AFN</th>\n",
       "      <td>True</td>\n",
       "      <td>1664455083</td>\n",
       "      <td>EUR</td>\n",
       "      <td>2022-09-29</td>\n",
       "      <td>85.609349</td>\n",
       "    </tr>\n",
       "    <tr>\n",
       "      <th>ALL</th>\n",
       "      <td>True</td>\n",
       "      <td>1664455083</td>\n",
       "      <td>EUR</td>\n",
       "      <td>2022-09-29</td>\n",
       "      <td>116.132071</td>\n",
       "    </tr>\n",
       "    <tr>\n",
       "      <th>AMD</th>\n",
       "      <td>True</td>\n",
       "      <td>1664455083</td>\n",
       "      <td>EUR</td>\n",
       "      <td>2022-09-29</td>\n",
       "      <td>393.508559</td>\n",
       "    </tr>\n",
       "    <tr>\n",
       "      <th>ANG</th>\n",
       "      <td>True</td>\n",
       "      <td>1664455083</td>\n",
       "      <td>EUR</td>\n",
       "      <td>2022-09-29</td>\n",
       "      <td>1.747548</td>\n",
       "    </tr>\n",
       "    <tr>\n",
       "      <th>...</th>\n",
       "      <td>...</td>\n",
       "      <td>...</td>\n",
       "      <td>...</td>\n",
       "      <td>...</td>\n",
       "      <td>...</td>\n",
       "    </tr>\n",
       "    <tr>\n",
       "      <th>YER</th>\n",
       "      <td>True</td>\n",
       "      <td>1664455083</td>\n",
       "      <td>EUR</td>\n",
       "      <td>2022-09-29</td>\n",
       "      <td>242.592257</td>\n",
       "    </tr>\n",
       "    <tr>\n",
       "      <th>ZAR</th>\n",
       "      <td>True</td>\n",
       "      <td>1664455083</td>\n",
       "      <td>EUR</td>\n",
       "      <td>2022-09-29</td>\n",
       "      <td>17.451494</td>\n",
       "    </tr>\n",
       "    <tr>\n",
       "      <th>ZMK</th>\n",
       "      <td>True</td>\n",
       "      <td>1664455083</td>\n",
       "      <td>EUR</td>\n",
       "      <td>2022-09-29</td>\n",
       "      <td>8725.772431</td>\n",
       "    </tr>\n",
       "    <tr>\n",
       "      <th>ZMW</th>\n",
       "      <td>True</td>\n",
       "      <td>1664455083</td>\n",
       "      <td>EUR</td>\n",
       "      <td>2022-09-29</td>\n",
       "      <td>15.296196</td>\n",
       "    </tr>\n",
       "    <tr>\n",
       "      <th>ZWL</th>\n",
       "      <td>True</td>\n",
       "      <td>1664455083</td>\n",
       "      <td>EUR</td>\n",
       "      <td>2022-09-29</td>\n",
       "      <td>312.146682</td>\n",
       "    </tr>\n",
       "  </tbody>\n",
       "</table>\n",
       "<p>167 rows × 5 columns</p>\n",
       "</div>"
      ],
      "text/plain": [
       "     success   timestamp base        date        rates\n",
       "AED     True  1664455083  EUR  2022-09-29     3.560658\n",
       "AFN     True  1664455083  EUR  2022-09-29    85.609349\n",
       "ALL     True  1664455083  EUR  2022-09-29   116.132071\n",
       "AMD     True  1664455083  EUR  2022-09-29   393.508559\n",
       "ANG     True  1664455083  EUR  2022-09-29     1.747548\n",
       "..       ...         ...  ...         ...          ...\n",
       "YER     True  1664455083  EUR  2022-09-29   242.592257\n",
       "ZAR     True  1664455083  EUR  2022-09-29    17.451494\n",
       "ZMK     True  1664455083  EUR  2022-09-29  8725.772431\n",
       "ZMW     True  1664455083  EUR  2022-09-29    15.296196\n",
       "ZWL     True  1664455083  EUR  2022-09-29   312.146682\n",
       "\n",
       "[167 rows x 5 columns]"
      ]
     },
     "execution_count": 12,
     "metadata": {},
     "output_type": "execute_result"
    }
   ],
   "source": [
    "# Turn the data into a dataframe\n",
    "dataframe = pd.DataFrame(data)\n",
    "dataframe"
   ]
  },
  {
   "cell_type": "code",
   "execution_count": 13,
   "metadata": {},
   "outputs": [
    {
     "data": {
      "text/html": [
       "<div>\n",
       "<style scoped>\n",
       "    .dataframe tbody tr th:only-of-type {\n",
       "        vertical-align: middle;\n",
       "    }\n",
       "\n",
       "    .dataframe tbody tr th {\n",
       "        vertical-align: top;\n",
       "    }\n",
       "\n",
       "    .dataframe thead th {\n",
       "        text-align: right;\n",
       "    }\n",
       "</style>\n",
       "<table border=\"1\" class=\"dataframe\">\n",
       "  <thead>\n",
       "    <tr style=\"text-align: right;\">\n",
       "      <th></th>\n",
       "      <th>rates</th>\n",
       "    </tr>\n",
       "  </thead>\n",
       "  <tbody>\n",
       "    <tr>\n",
       "      <th>AED</th>\n",
       "      <td>3.560658</td>\n",
       "    </tr>\n",
       "    <tr>\n",
       "      <th>AFN</th>\n",
       "      <td>85.609349</td>\n",
       "    </tr>\n",
       "    <tr>\n",
       "      <th>ALL</th>\n",
       "      <td>116.132071</td>\n",
       "    </tr>\n",
       "    <tr>\n",
       "      <th>AMD</th>\n",
       "      <td>393.508559</td>\n",
       "    </tr>\n",
       "    <tr>\n",
       "      <th>ANG</th>\n",
       "      <td>1.747548</td>\n",
       "    </tr>\n",
       "    <tr>\n",
       "      <th>...</th>\n",
       "      <td>...</td>\n",
       "    </tr>\n",
       "    <tr>\n",
       "      <th>YER</th>\n",
       "      <td>242.592257</td>\n",
       "    </tr>\n",
       "    <tr>\n",
       "      <th>ZAR</th>\n",
       "      <td>17.451494</td>\n",
       "    </tr>\n",
       "    <tr>\n",
       "      <th>ZMK</th>\n",
       "      <td>8725.772431</td>\n",
       "    </tr>\n",
       "    <tr>\n",
       "      <th>ZMW</th>\n",
       "      <td>15.296196</td>\n",
       "    </tr>\n",
       "    <tr>\n",
       "      <th>ZWL</th>\n",
       "      <td>312.146682</td>\n",
       "    </tr>\n",
       "  </tbody>\n",
       "</table>\n",
       "<p>167 rows × 1 columns</p>\n",
       "</div>"
      ],
      "text/plain": [
       "           rates\n",
       "AED     3.560658\n",
       "AFN    85.609349\n",
       "ALL   116.132071\n",
       "AMD   393.508559\n",
       "ANG     1.747548\n",
       "..           ...\n",
       "YER   242.592257\n",
       "ZAR    17.451494\n",
       "ZMK  8725.772431\n",
       "ZMW    15.296196\n",
       "ZWL   312.146682\n",
       "\n",
       "[167 rows x 1 columns]"
      ]
     },
     "execution_count": 13,
     "metadata": {},
     "output_type": "execute_result"
    }
   ],
   "source": [
    "# Drop unnescessary columns\n",
    "dataframe.drop(columns=[\"success\", \"timestamp\", \"base\", \"date\"], inplace=True)\n",
    "dataframe"
   ]
  },
  {
   "cell_type": "markdown",
   "metadata": {},
   "source": [
    "### Load the Data\n",
    "\n",
    "Using the dataframe save it as a CSV names `exchange_rates_1.csv`.\n"
   ]
  },
  {
   "cell_type": "code",
   "execution_count": 14,
   "metadata": {},
   "outputs": [],
   "source": [
    "# Save the Dataframe\n",
    "dataframe.to_csv(\"exchange_rates_1.csv\")"
   ]
  },
  {
   "cell_type": "markdown",
   "metadata": {},
   "source": [
    "Your CSV should be in this format with more currencies\n",
    "\n",
    "|     | Rates      |\n",
    "| --- | ---------- |\n",
    "| AED | 4.398618   |\n",
    "| AFN | 92.917693  |\n",
    "| ALL | 123.099093 |\n",
    "| AMD | 621.935674 |\n",
    "| ANG | 2.149648   |\n"
   ]
  },
  {
   "cell_type": "markdown",
   "metadata": {},
   "source": [
    "## Authors\n"
   ]
  },
  {
   "cell_type": "markdown",
   "metadata": {},
   "source": [
    "Ramesh Sannareddy, Joseph Santarcangelo and Azim Hirjani\n"
   ]
  },
  {
   "cell_type": "markdown",
   "metadata": {},
   "source": [
    "### Other Contributors\n"
   ]
  },
  {
   "cell_type": "markdown",
   "metadata": {},
   "source": [
    "Rav Ahuja\n"
   ]
  },
  {
   "cell_type": "markdown",
   "metadata": {},
   "source": [
    "## Change Log\n"
   ]
  },
  {
   "cell_type": "markdown",
   "metadata": {},
   "source": [
    "| Date (YYYY-MM-DD) | Version | Changed By        | Change Description                              |\n",
    "| ----------------- | ------- | ----------------- | ----------------------------------------------- |\n",
    "| 2022-05-06        | 0.3     | Malika            | Updated instructions to get the API and the url |\n",
    "| 2021-04-15        | 0.2     | Malika            | Updated the lab from USD to EUR                 |\n",
    "| 2020-11-25        | 0.1     | Ramesh Sannareddy | Created initial version of the lab              |\n"
   ]
  },
  {
   "cell_type": "markdown",
   "metadata": {},
   "source": [
    "Copyright © 2020 IBM Corporation. This notebook and its source code are released under the terms of the [MIT License](https://cognitiveclass.ai/mit-license?utm_medium=Exinfluencer&utm_source=Exinfluencer&utm_content=000026UJ&utm_term=10006555&utm_id=NA-SkillsNetwork-Channel-SkillsNetworkCoursesIBMDeveloperSkillsNetworkPY0221ENSkillsNetwork23455645-2022-01-01&cm_mmc=Email_Newsletter-\\_-Developer_Ed%2BTech-\\_-WW_WW-\\_-SkillsNetwork-Courses-IBM-DA0321EN-SkillsNetwork-21426264&cm_mmca1=000026UJ&cm_mmca2=10006555&cm_mmca3=M12345678&cvosrc=email.Newsletter.M12345678&cvo_campaign=000026UJ).\n"
   ]
  }
 ],
 "metadata": {
  "kernelspec": {
   "display_name": "Python 3 (ipykernel)",
   "language": "python",
   "name": "python3"
  },
  "language_info": {
   "codemirror_mode": {
    "name": "ipython",
    "version": 3
   },
   "file_extension": ".py",
   "mimetype": "text/x-python",
   "name": "python",
   "nbconvert_exporter": "python",
   "pygments_lexer": "ipython3",
   "version": "3.10.4"
  }
 },
 "nbformat": 4,
 "nbformat_minor": 4
}
